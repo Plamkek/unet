{
 "cells": [
  {
   "cell_type": "code",
   "execution_count": 2,
   "id": "792b15cf-2506-46a5-96ec-70d25bfbf1c2",
   "metadata": {},
   "outputs": [
    {
     "name": "stdout",
     "output_type": "stream",
     "text": [
      "True\n"
     ]
    }
   ],
   "source": [
    "import torch\n",
    "print(torch.cuda.is_available())"
   ]
  },
  {
   "cell_type": "code",
   "execution_count": 3,
   "id": "c79fc959-9cf7-4aa9-92df-1efb91fb9859",
   "metadata": {},
   "outputs": [
    {
     "name": "stdout",
     "output_type": "stream",
     "text": [
      "torch.Size([32, 1, 64, 64]) torch.Size([32, 2, 64, 64])\n",
      "torch.Size([32, 1, 64, 64]) torch.Size([32, 2, 64, 64])\n",
      "torch.Size([32, 1, 64, 64]) torch.Size([32, 2, 64, 64])\n",
      "torch.Size([32, 1, 64, 64]) torch.Size([32, 2, 64, 64])\n"
     ]
    }
   ],
   "source": [
    "import numpy as np\n",
    "import matplotlib.pyplot as plt\n",
    "from skimage.draw import disk, rectangle\n",
    "import torch\n",
    "from torch.utils.data import Dataset, DataLoader, random_split\n",
    "from torchvision.transforms import v2\n",
    "\n",
    "num_images = 10\n",
    "\n",
    "class ImageDataset(Dataset):\n",
    "    def __init__(self, _num_images, sizes, transform=None):     \n",
    "        self.num_images = _num_images\n",
    "        self.transform = transform\n",
    "        self.images = []\n",
    "        self.masks = []\n",
    "        H, W = sizes\n",
    "        for _ in range(num_images):    \n",
    "            img = np.zeros((H, W), dtype=np.uint8)\n",
    "            lbl_d = np.zeros((H, W), dtype=np.uint8)\n",
    "            lbl_r = np.zeros((H, W), dtype=np.uint8)  \n",
    "            radius = np.random.randint(20, 50)\n",
    "            center = (np.random.randint(radius, W - radius), np.random.randint(radius, H - radius))\n",
    "            rr, cc = disk(center, radius)\n",
    "            img[rr, cc] = np.random.randint(0, 256)\n",
    "            lbl_d[rr, cc] = 1\n",
    "            start = (np.random.randint(0, W//2), np.random.randint(0, H//2))\n",
    "            end = (np.random.randint(W//2, W), np.random.randint(H//2, H))\n",
    "            rr, cc = rectangle(start, end)\n",
    "            img[rr, cc] = np.random.randint(0, 256)\n",
    "            lbl_r[rr, cc] = 1\n",
    "            t_img = torch.tensor(img, dtype=torch.float)\n",
    "            t_img = t_img.unsqueeze(0) # Добавления измерения количества изображений внутри одного изображения\n",
    "            self.images.append(t_img)\n",
    "            _mask = np.stack((lbl_d, lbl_r))\n",
    "            t_msk = torch.tensor(_mask, dtype=torch.float)\n",
    "            self.masks.append(t_msk)\n",
    "    def __len__(self):\n",
    "        return self.num_images\n",
    "    def __getitem__(self, idx):\n",
    "        img = self.images[idx] \n",
    "        lbl = self.masks[idx] \n",
    "        if self.transform:\n",
    "            img = self.transform(img)\n",
    "            lbl = self.transform(lbl)\n",
    "        return img, lbl\n",
    "\n",
    "def plot_img(data, mask):\n",
    "    plt.imshow(data.squeeze())\n",
    "    plt.imshow(mask[0], alpha=0.2)\n",
    "    plt.imshow(mask[1], alpha=0.2)\n",
    "    plt.show()\n",
    "\n",
    "num_images = 8192\n",
    "img_size = 64\n",
    "batch_size = 32\n",
    "dataset = ImageDataset(num_images, (256, 256), transform = v2.Compose([\n",
    "    v2.Resize(size=img_size),\n",
    "    v2.ToDtype(torch.float32, scale=False)\n",
    "]))\n",
    "train_length = int(len(dataset) * 0.8)\n",
    "train_set, test_set = random_split(dataset, (train_length, len(dataset)-train_length))\n",
    "\n",
    "trainloader = DataLoader(train_set, batch_size=batch_size, shuffle=True)\n",
    "testloader = DataLoader(test_set, batch_size=batch_size, shuffle=True)\n",
    "\n",
    "for i, item in enumerate(trainloader):\n",
    "    img, lbl = item\n",
    "    print(img.shape, lbl.shape)\n",
    "    if i == 3: break"
   ]
  },
  {
   "cell_type": "code",
   "execution_count": 4,
   "id": "60a0011f-e0b2-4fba-afde-f53e0cda3e7e",
   "metadata": {},
   "outputs": [
    {
     "data": {
      "text/plain": [
       "Unet(\n",
       "  (maxpool): MaxPool2d(kernel_size=(2, 2), stride=(2, 2), padding=0, dilation=1, ceil_mode=False)\n",
       "  (conv1): Conv2d(1, 16, kernel_size=(3, 3), stride=(1, 1), padding=same)\n",
       "  (conv2): Conv2d(16, 32, kernel_size=(3, 3), stride=(1, 1), padding=same)\n",
       "  (conv3): Conv2d(32, 64, kernel_size=(3, 3), stride=(1, 1), padding=same)\n",
       "  (conv4): Conv2d(64, 128, kernel_size=(3, 3), stride=(1, 1), padding=same)\n",
       "  (upconv1): ConvTranspose2d(128, 64, kernel_size=(2, 2), stride=(2, 2))\n",
       "  (conv5): Conv2d(64, 64, kernel_size=(3, 3), stride=(1, 1), padding=same)\n",
       "  (upconv2): ConvTranspose2d(64, 32, kernel_size=(2, 2), stride=(2, 2))\n",
       "  (conv6): Conv2d(32, 32, kernel_size=(3, 3), stride=(1, 1), padding=same)\n",
       "  (upconv3): ConvTranspose2d(32, 16, kernel_size=(2, 2), stride=(2, 2))\n",
       "  (conv7): Conv2d(16, 16, kernel_size=(3, 3), stride=(1, 1), padding=same)\n",
       "  (conv8): Conv2d(16, 16, kernel_size=(3, 3), stride=(1, 1), padding=same)\n",
       "  (conv9): Conv2d(16, 2, kernel_size=(1, 1), stride=(1, 1), padding=same)\n",
       ")"
      ]
     },
     "execution_count": 4,
     "metadata": {},
     "output_type": "execute_result"
    }
   ],
   "source": [
    "import torch.nn as nn\n",
    "import torch.nn.functional as F\n",
    "# Изучить пороговые функции, например ReLu\n",
    "# Изучить ООП, абстрактные классы\n",
    "\n",
    "class Unet(nn.Module):\n",
    "    def __init__(self, _num_channels=1, _num_classes=1):\n",
    "        super().__init__()\n",
    "        self.num_channel = _num_channels\n",
    "        self.num_classes = _num_classes\n",
    "        self.maxpool = nn.MaxPool2d(kernel_size = (2, 2))\n",
    "\n",
    "        # Encoder\n",
    "        self.conv1 = nn.Conv2d(in_channels=self.num_channel, out_channels=16, kernel_size=(3, 3), padding='same')\n",
    "        self.conv2 = nn.Conv2d(in_channels=16, out_channels=32, kernel_size=(3, 3), padding='same')\n",
    "        self.conv3 = nn.Conv2d(in_channels=32, out_channels=64, kernel_size=(3, 3), padding='same')\n",
    "        self.conv4 = nn.Conv2d(in_channels=64, out_channels=128, kernel_size=(3, 3), padding='same')\n",
    "\n",
    "        # Decoder\n",
    "        self.upconv1 = nn.ConvTranspose2d(in_channels=128, out_channels=64, kernel_size=(2, 2), stride=(2, 2))\n",
    "        self.conv5 = nn.Conv2d(in_channels=64, out_channels=64, kernel_size=(3, 3), padding='same')\n",
    "        self.upconv2 = nn.ConvTranspose2d(in_channels=64, out_channels=32, kernel_size=(2, 2), stride=(2, 2))\n",
    "        self.conv6 = nn.Conv2d(in_channels=32, out_channels=32, kernel_size=(3, 3), padding='same')\n",
    "        self.upconv3 = nn.ConvTranspose2d(in_channels=32, out_channels=16, kernel_size=(2, 2), stride=(2, 2))\n",
    "        self.conv7 = nn.Conv2d(in_channels=16, out_channels=16, kernel_size=(3, 3), padding='same')\n",
    "        self.conv8 = nn.Conv2d(in_channels=16, out_channels=16, kernel_size=(3, 3), padding='same')\n",
    "        self.conv9 = nn.Conv2d(in_channels=16, out_channels=self.num_classes, kernel_size=(1, 1), padding='same')\n",
    "        \n",
    "        \n",
    "    def forward(self, x):\n",
    "        # x - (B, C, W, H)\n",
    "        x = self.conv1(x)\n",
    "        x1 = F.relu(x)\n",
    "        \n",
    "        x = self.maxpool(x1)\n",
    "        x = self.conv2(x)\n",
    "        x2 = F.relu(x)\n",
    "        \n",
    "        x = self.maxpool(x2)\n",
    "        x = self.conv3(x)\n",
    "        x3 = F.relu(x)\n",
    "\n",
    "        x = self.maxpool(x3)\n",
    "        x = self.conv4(x)\n",
    "\n",
    "        x = self.upconv1(x)\n",
    "\n",
    "        x = x3 + F.relu(x)\n",
    "        x = self.conv5(x)\n",
    "        x = F.relu(x)\n",
    "        x = self.upconv2(x)\n",
    "\n",
    "        x = x2 + F.relu(x)\n",
    "        x = self.conv6(x)\n",
    "        x = F.relu(x)\n",
    "        x = self.upconv3(x)\n",
    "\n",
    "        x = x1 + F.relu(x)\n",
    "\n",
    "        x = F.relu(self.conv7(x))\n",
    "        x = F.relu(self.conv8(x))\n",
    "        x = F.relu(self.conv9(x))\n",
    "        \n",
    "        return F.sigmoid(x)\n",
    "\n",
    "num_channel = 1\n",
    "num_classes = 2\n",
    "model = Unet(num_channel, num_classes)\n",
    "\n",
    "device = torch.device('cuda:0')\n",
    "model.to(device)"
   ]
  },
  {
   "cell_type": "code",
   "execution_count": 5,
   "id": "67a13b33-a5e3-4584-91b4-dad163f75d0b",
   "metadata": {},
   "outputs": [],
   "source": [
    "from torch.optim import AdamW, lr_scheduler\n",
    "from tqdm import tqdm\n",
    "\n",
    "def dice_loss(src, dst, smooth = 1e-6):\n",
    "    src = torch.flatten(src)\n",
    "    dst = torch.flatten(dst)\n",
    "    intersect = 2 * (src*dst).sum()\n",
    "    return 1 - intersect/(src.sum() + dst.sum())\n",
    "\n",
    "@torch.inference_mode()\n",
    "def evaluate(model, test_loader, device):\n",
    "    model.eval()\n",
    "    val_score1 = 0\n",
    "    val_score2 = 0\n",
    "    for batch in test_loader:\n",
    "        images, masks = batch # (B, C, H, W)\n",
    "        images = images.to(device)\n",
    "        masks = masks.to(device)\n",
    "        masks_pred = model(images)\n",
    "        val_score1 += dice_loss(masks_pred[:, 0, :, :], masks[:, 0, :, :])\n",
    "        val_score2 += dice_loss(masks_pred[:, 1, :, :], masks[:, 1, :, :])\n",
    "    model.train()\n",
    "    return 1 - val_score1/len(test_loader), 1 - val_score2/len(test_loader)\n",
    "\n",
    "def train(model, train_loader, test_loader, device, args):\n",
    "    loss_func = nn.CrossEntropyLoss()\n",
    "    optimizer = AdamW(model.parameters(), lr=args['LR'])\n",
    "    scheduler = lr_scheduler.ExponentialLR(optimizer, gamma = args['lr_decay'])\n",
    "    \n",
    "    epochs = args['epochs']\n",
    "    for epoch in range(epochs):\n",
    "        model.train()\n",
    "        epoch_loss = 0\n",
    "        with tqdm(total=len(train_loader), desc=f'Epoch {epoch}/{epochs}', unit='batch') as pbar:\n",
    "            for batch in train_loader:\n",
    "                images, masks = batch\n",
    "                images = images.to(device)\n",
    "                masks = masks.to(device)\n",
    "                masks_pred = model(images)\n",
    "    \n",
    "                optimizer.zero_grad(set_to_none = True)\n",
    "                \n",
    "                loss = loss_func(F.softmax(masks_pred, dim=1), masks)\n",
    "                loss +=dice_loss(masks_pred, masks)\n",
    "    \n",
    "                loss.backward()\n",
    "                optimizer.step()\n",
    "                \n",
    "                pbar.update()\n",
    "                epoch_loss += loss.item()\n",
    "                pbar.set_postfix(**{'loss (batch)': loss.item()})\n",
    "        scheduler.step()\n",
    "        val_score1, val_score2 = evaluate(model, test_loader, device)\n",
    "        print(f'Validate score: {val_score1:.3f},  {val_score2:.3f}, epoch_loss: {epoch_loss/len(train_loader):.3f}')"
   ]
  },
  {
   "cell_type": "code",
   "execution_count": 4,
   "id": "e40f1939-64c9-4206-94e7-c7105e68e99b",
   "metadata": {},
   "outputs": [
    {
     "name": "stderr",
     "output_type": "stream",
     "text": [
      "Epoch 0/10: 100%|█████████████████████████████████████████████████████████████████████████████████████████████████████████████████████████████████████████████████████████████████████████████████████████████████████████████████████████████████████████| 205/205 [00:04<00:00, 49.99batch/s, loss (batch)=0.816]\n"
     ]
    },
    {
     "name": "stdout",
     "output_type": "stream",
     "text": [
      "Validate score: 0.106,  0.559, epoch_loss: 0.821\n"
     ]
    },
    {
     "name": "stderr",
     "output_type": "stream",
     "text": [
      "Epoch 1/10: 100%|██████████████████████████████████████████████████████████████████████████████████████████████████████████████████████████████████████████████████████████████████████████████████████████████████████████████████████████████████████████| 205/205 [00:03<00:00, 54.48batch/s, loss (batch)=0.79]\n"
     ]
    },
    {
     "name": "stdout",
     "output_type": "stream",
     "text": [
      "Validate score: 0.106,  0.562, epoch_loss: 0.813\n"
     ]
    },
    {
     "name": "stderr",
     "output_type": "stream",
     "text": [
      "Epoch 2/10: 100%|█████████████████████████████████████████████████████████████████████████████████████████████████████████████████████████████████████████████████████████████████████████████████████████████████████████████████████████████████████████| 205/205 [00:03<00:00, 54.60batch/s, loss (batch)=0.801]\n"
     ]
    },
    {
     "name": "stdout",
     "output_type": "stream",
     "text": [
      "Validate score: 0.106,  0.570, epoch_loss: 0.809\n"
     ]
    },
    {
     "name": "stderr",
     "output_type": "stream",
     "text": [
      "Epoch 3/10: 100%|█████████████████████████████████████████████████████████████████████████████████████████████████████████████████████████████████████████████████████████████████████████████████████████████████████████████████████████████████████████| 205/205 [00:03<00:00, 54.47batch/s, loss (batch)=0.802]\n"
     ]
    },
    {
     "name": "stdout",
     "output_type": "stream",
     "text": [
      "Validate score: 0.106,  0.569, epoch_loss: 0.805\n"
     ]
    },
    {
     "name": "stderr",
     "output_type": "stream",
     "text": [
      "Epoch 4/10: 100%|█████████████████████████████████████████████████████████████████████████████████████████████████████████████████████████████████████████████████████████████████████████████████████████████████████████████████████████████████████████| 205/205 [00:03<00:00, 54.47batch/s, loss (batch)=0.798]\n"
     ]
    },
    {
     "name": "stdout",
     "output_type": "stream",
     "text": [
      "Validate score: 0.106,  0.570, epoch_loss: 0.805\n"
     ]
    },
    {
     "name": "stderr",
     "output_type": "stream",
     "text": [
      "Epoch 5/10: 100%|█████████████████████████████████████████████████████████████████████████████████████████████████████████████████████████████████████████████████████████████████████████████████████████████████████████████████████████████████████████| 205/205 [00:03<00:00, 53.03batch/s, loss (batch)=0.815]\n"
     ]
    },
    {
     "name": "stdout",
     "output_type": "stream",
     "text": [
      "Validate score: 0.106,  0.570, epoch_loss: 0.805\n"
     ]
    },
    {
     "name": "stderr",
     "output_type": "stream",
     "text": [
      "Epoch 6/10: 100%|█████████████████████████████████████████████████████████████████████████████████████████████████████████████████████████████████████████████████████████████████████████████████████████████████████████████████████████████████████████| 205/205 [00:03<00:00, 51.77batch/s, loss (batch)=0.802]\n"
     ]
    },
    {
     "name": "stdout",
     "output_type": "stream",
     "text": [
      "Validate score: 0.106,  0.571, epoch_loss: 0.804\n"
     ]
    },
    {
     "name": "stderr",
     "output_type": "stream",
     "text": [
      "Epoch 7/10: 100%|█████████████████████████████████████████████████████████████████████████████████████████████████████████████████████████████████████████████████████████████████████████████████████████████████████████████████████████████████████████| 205/205 [00:03<00:00, 54.43batch/s, loss (batch)=0.797]\n"
     ]
    },
    {
     "name": "stdout",
     "output_type": "stream",
     "text": [
      "Validate score: 0.107,  0.571, epoch_loss: 0.804\n"
     ]
    },
    {
     "name": "stderr",
     "output_type": "stream",
     "text": [
      "Epoch 8/10: 100%|█████████████████████████████████████████████████████████████████████████████████████████████████████████████████████████████████████████████████████████████████████████████████████████████████████████████████████████████████████████| 205/205 [00:03<00:00, 54.43batch/s, loss (batch)=0.791]\n"
     ]
    },
    {
     "name": "stdout",
     "output_type": "stream",
     "text": [
      "Validate score: 0.106,  0.573, epoch_loss: 0.804\n"
     ]
    },
    {
     "name": "stderr",
     "output_type": "stream",
     "text": [
      "Epoch 9/10: 100%|█████████████████████████████████████████████████████████████████████████████████████████████████████████████████████████████████████████████████████████████████████████████████████████████████████████████████████████████████████████| 205/205 [00:03<00:00, 55.41batch/s, loss (batch)=0.797]\n"
     ]
    },
    {
     "name": "stdout",
     "output_type": "stream",
     "text": [
      "Validate score: 0.107,  0.572, epoch_loss: 0.804\n"
     ]
    }
   ],
   "source": [
    "train_args = {\n",
    "    'LR': 3e-4,\n",
    "    'lr_decay': 0.99,\n",
    "    'epochs': 10\n",
    "}\n",
    "train(model, trainloader, testloader, device, train_args)"
   ]
  },
  {
   "cell_type": "code",
   "execution_count": 6,
   "id": "19608702-47ea-414a-8904-e70d6b7e02bb",
   "metadata": {},
   "outputs": [
    {
     "data": {
      "image/png": "[encoded data removed]",
      "text/plain": [
       "<Figure size 640x480 with 1 Axes>"
      ]
     },
     "metadata": {},
     "output_type": "display_data"
    },
    {
     "data": {
      "image/png": "[encoded data removed]",
      "text/plain": [
       "<Figure size 640x480 with 1 Axes>"
      ]
     },
     "metadata": {},
     "output_type": "display_data"
    },
    {
     "data": {
      "image/png": "[encoded data removed]",
      "text/plain": [
       "<Figure size 640x480 with 1 Axes>"
      ]
     },
     "metadata": {},
     "output_type": "display_data"
    }
   ],
   "source": [
    "def plot_res(data):\n",
    "    plt.imshow(data)\n",
    "    plt.show()\n",
    "\n",
    "for i, batch in enumerate(testloader):\n",
    "    model.eval()\n",
    "    img, lbl = batch\n",
    "    img = img.to(device)\n",
    "    res = model(img)\n",
    "    res = res.detach().cpu().numpy()\n",
    "    plot_res(res[0][0])\n",
    "    if i == 2: break"
   ]
  },
  {
   "cell_type": "code",
   "execution_count": null,
   "id": "11c59906-004a-4ed1-b7aa-fb2960c6c43d",
   "metadata": {},
   "outputs": [],
   "source": []
  }
 ],
 "metadata": {
  "kernelspec": {
   "display_name": "Python 3 (ipykernel)",
   "language": "python",
   "name": "python3"
  },
  "language_info": {
   "codemirror_mode": {
    "name": "ipython",
    "version": 3
   },
   "file_extension": ".py",
   "mimetype": "text/x-python",
   "name": "python",
   "nbconvert_exporter": "python",
   "pygments_lexer": "ipython3",
   "version": "3.11.5"
  }
 },
 "nbformat": 4,
 "nbformat_minor": 5
}
